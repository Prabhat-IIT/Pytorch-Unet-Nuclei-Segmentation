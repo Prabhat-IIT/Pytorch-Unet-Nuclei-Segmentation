{
 "cells": [
  {
   "cell_type": "code",
   "execution_count": 8,
   "metadata": {},
   "outputs": [],
   "source": [
    "from patches import createImgPatches, createsBinMask"
   ]
  },
  {
   "cell_type": "code",
   "execution_count": 9,
   "metadata": {},
   "outputs": [],
   "source": [
    "source = '../segmentation_training_set/'"
   ]
  },
  {
   "cell_type": "code",
   "execution_count": 10,
   "metadata": {},
   "outputs": [
    {
     "name": "stdout",
     "output_type": "stream",
     "text": [
      "[488, 643]\n"
     ]
    },
    {
     "name": "stderr",
     "output_type": "stream",
     "text": [
      "/home/shiva/anaconda3/envs/pytorch/lib/python3.6/site-packages/skimage/io/_io.py:140: UserWarning: ../segmentation_training_set/image01_maskbin.png is a low contrast image\n",
      "  warn('%s is a low contrast image' % fname)\n",
      "/home/shiva/anaconda3/envs/pytorch/lib/python3.6/site-packages/skimage/io/_io.py:140: UserWarning: ../segmentation_training_set/image06_maskbin.png is a low contrast image\n",
      "  warn('%s is a low contrast image' % fname)\n"
     ]
    },
    {
     "name": "stdout",
     "output_type": "stream",
     "text": [
      "[392, 459]\n",
      "[669, 793]\n"
     ]
    },
    {
     "name": "stderr",
     "output_type": "stream",
     "text": [
      "/home/shiva/anaconda3/envs/pytorch/lib/python3.6/site-packages/skimage/io/_io.py:140: UserWarning: ../segmentation_training_set/image12_maskbin.png is a low contrast image\n",
      "  warn('%s is a low contrast image' % fname)\n"
     ]
    },
    {
     "name": "stdout",
     "output_type": "stream",
     "text": [
      "[696, 677]\n"
     ]
    },
    {
     "name": "stderr",
     "output_type": "stream",
     "text": [
      "/home/shiva/anaconda3/envs/pytorch/lib/python3.6/site-packages/skimage/io/_io.py:140: UserWarning: ../segmentation_training_set/image11_maskbin.png is a low contrast image\n",
      "  warn('%s is a low contrast image' % fname)\n"
     ]
    },
    {
     "name": "stdout",
     "output_type": "stream",
     "text": [
      "[589, 641]\n"
     ]
    },
    {
     "name": "stderr",
     "output_type": "stream",
     "text": [
      "/home/shiva/anaconda3/envs/pytorch/lib/python3.6/site-packages/skimage/io/_io.py:140: UserWarning: ../segmentation_training_set/image13_maskbin.png is a low contrast image\n",
      "  warn('%s is a low contrast image' % fname)\n"
     ]
    },
    {
     "name": "stdout",
     "output_type": "stream",
     "text": [
      "[597, 863]\n"
     ]
    },
    {
     "name": "stderr",
     "output_type": "stream",
     "text": [
      "/home/shiva/anaconda3/envs/pytorch/lib/python3.6/site-packages/skimage/io/_io.py:140: UserWarning: ../segmentation_training_set/image05_maskbin.png is a low contrast image\n",
      "  warn('%s is a low contrast image' % fname)\n",
      "/home/shiva/anaconda3/envs/pytorch/lib/python3.6/site-packages/skimage/io/_io.py:140: UserWarning: ../segmentation_training_set/image02_maskbin.png is a low contrast image\n",
      "  warn('%s is a low contrast image' % fname)\n"
     ]
    },
    {
     "name": "stdout",
     "output_type": "stream",
     "text": [
      "[490, 488]\n",
      "[587, 751]\n"
     ]
    },
    {
     "name": "stderr",
     "output_type": "stream",
     "text": [
      "/home/shiva/anaconda3/envs/pytorch/lib/python3.6/site-packages/skimage/io/_io.py:140: UserWarning: ../segmentation_training_set/image03_maskbin.png is a low contrast image\n",
      "  warn('%s is a low contrast image' % fname)\n",
      "/home/shiva/anaconda3/envs/pytorch/lib/python3.6/site-packages/skimage/io/_io.py:140: UserWarning: ../segmentation_training_set/image07_maskbin.png is a low contrast image\n",
      "  warn('%s is a low contrast image' % fname)\n"
     ]
    },
    {
     "name": "stdout",
     "output_type": "stream",
     "text": [
      "[439, 439]\n",
      "[498, 461]\n"
     ]
    },
    {
     "name": "stderr",
     "output_type": "stream",
     "text": [
      "/home/shiva/anaconda3/envs/pytorch/lib/python3.6/site-packages/skimage/io/_io.py:140: UserWarning: ../segmentation_training_set/image14_maskbin.png is a low contrast image\n",
      "  warn('%s is a low contrast image' % fname)\n"
     ]
    },
    {
     "name": "stdout",
     "output_type": "stream",
     "text": [
      "[808, 1032]\n"
     ]
    },
    {
     "name": "stderr",
     "output_type": "stream",
     "text": [
      "/home/shiva/anaconda3/envs/pytorch/lib/python3.6/site-packages/skimage/io/_io.py:140: UserWarning: ../segmentation_training_set/image10_maskbin.png is a low contrast image\n",
      "  warn('%s is a low contrast image' % fname)\n"
     ]
    },
    {
     "name": "stdout",
     "output_type": "stream",
     "text": [
      "[493, 623]\n"
     ]
    },
    {
     "name": "stderr",
     "output_type": "stream",
     "text": [
      "/home/shiva/anaconda3/envs/pytorch/lib/python3.6/site-packages/skimage/io/_io.py:140: UserWarning: ../segmentation_training_set/image04_maskbin.png is a low contrast image\n",
      "  warn('%s is a low contrast image' % fname)\n"
     ]
    },
    {
     "name": "stdout",
     "output_type": "stream",
     "text": [
      "[596, 798]\n"
     ]
    },
    {
     "name": "stderr",
     "output_type": "stream",
     "text": [
      "/home/shiva/anaconda3/envs/pytorch/lib/python3.6/site-packages/skimage/io/_io.py:140: UserWarning: ../segmentation_training_set/image08_maskbin.png is a low contrast image\n",
      "  warn('%s is a low contrast image' % fname)\n"
     ]
    },
    {
     "name": "stdout",
     "output_type": "stream",
     "text": [
      "[526, 552]\n"
     ]
    },
    {
     "name": "stderr",
     "output_type": "stream",
     "text": [
      "/home/shiva/anaconda3/envs/pytorch/lib/python3.6/site-packages/skimage/io/_io.py:140: UserWarning: ../segmentation_training_set/image15_maskbin.png is a low contrast image\n",
      "  warn('%s is a low contrast image' % fname)\n"
     ]
    },
    {
     "name": "stdout",
     "output_type": "stream",
     "text": [
      "[888, 801]\n"
     ]
    },
    {
     "name": "stderr",
     "output_type": "stream",
     "text": [
      "/home/shiva/anaconda3/envs/pytorch/lib/python3.6/site-packages/skimage/io/_io.py:140: UserWarning: ../segmentation_training_set/image09_maskbin.png is a low contrast image\n",
      "  warn('%s is a low contrast image' % fname)\n"
     ]
    }
   ],
   "source": [
    "createsBinMask(source)"
   ]
  },
  {
   "cell_type": "code",
   "execution_count": 11,
   "metadata": {},
   "outputs": [
    {
     "name": "stdout",
     "output_type": "stream",
     "text": [
      "01\n",
      "input shape (488, 643, 3)\n",
      "output shape (512, 768, 3)\n",
      "input shape (484, 641, 3)\n",
      "output shape (512, 768, 3)\n",
      "input shape (484, 641, 4)\n",
      "output shape (512, 768, 4)\n",
      "02\n",
      "input shape (490, 488, 3)\n",
      "output shape (512, 512, 3)\n",
      "input shape (489, 485, 3)\n",
      "output shape (512, 512, 3)\n",
      "input shape (489, 485, 4)\n",
      "output shape (512, 512, 4)\n",
      "03\n",
      "input shape (587, 751, 3)\n",
      "output shape (768, 768, 3)\n",
      "input shape (585, 748, 3)\n",
      "output shape (768, 768, 3)\n",
      "input shape (585, 748, 4)\n",
      "output shape (768, 768, 4)\n",
      "04\n",
      "input shape (493, 623, 3)\n",
      "output shape (512, 768, 3)\n",
      "input shape (490, 621, 3)\n",
      "output shape (512, 768, 3)\n",
      "input shape (490, 621, 4)\n",
      "output shape (512, 768, 4)\n",
      "05\n",
      "input shape (597, 863, 3)\n",
      "output shape (768, 1024, 3)\n",
      "input shape (596, 860, 3)\n",
      "output shape (768, 1024, 3)\n",
      "input shape (596, 860, 4)\n",
      "output shape (768, 1024, 4)\n",
      "06\n",
      "input shape (392, 459, 3)\n",
      "output shape (512, 512, 3)\n",
      "input shape (389, 455, 3)\n",
      "output shape (512, 512, 3)\n",
      "input shape (389, 455, 4)\n",
      "output shape (512, 512, 4)\n",
      "07\n",
      "input shape (439, 439, 3)\n",
      "output shape (512, 512, 3)\n",
      "input shape (437, 435, 3)\n",
      "output shape (512, 512, 3)\n",
      "input shape (437, 435, 4)\n",
      "output shape (512, 512, 4)\n",
      "08\n",
      "input shape (596, 798, 3)\n",
      "output shape (768, 1024, 3)\n",
      "input shape (595, 795, 3)\n",
      "output shape (768, 1024, 3)\n",
      "input shape (595, 795, 4)\n",
      "output shape (768, 1024, 4)\n",
      "09\n",
      "input shape (888, 801, 3)\n",
      "output shape (1024, 1024, 3)\n",
      "input shape (886, 796, 3)\n",
      "output shape (1024, 1024, 3)\n",
      "input shape (886, 796, 4)\n",
      "output shape (1024, 1024, 4)\n",
      "10\n",
      "input shape (808, 1032, 3)\n",
      "output shape (1024, 1280, 3)\n",
      "input shape (805, 1032, 3)\n",
      "output shape (1024, 1280, 3)\n",
      "input shape (805, 1032, 4)\n",
      "output shape (1024, 1280, 4)\n",
      "11\n",
      "input shape (696, 677, 3)\n",
      "output shape (768, 768, 3)\n",
      "input shape (694, 674, 3)\n",
      "output shape (768, 768, 3)\n",
      "input shape (694, 674, 4)\n",
      "output shape (768, 768, 4)\n",
      "12\n",
      "input shape (669, 793, 3)\n",
      "output shape (768, 1024, 3)\n",
      "input shape (668, 791, 3)\n",
      "output shape (768, 1024, 3)\n",
      "input shape (668, 791, 4)\n",
      "output shape (768, 1024, 4)\n",
      "13\n",
      "input shape (589, 641, 3)\n",
      "output shape (768, 768, 3)\n",
      "input shape (587, 638, 3)\n",
      "output shape (768, 768, 3)\n",
      "input shape (587, 638, 4)\n",
      "output shape (768, 768, 4)\n",
      "14\n",
      "input shape (498, 461, 3)\n",
      "output shape (512, 512, 3)\n",
      "input shape (496, 459, 3)\n",
      "output shape (512, 512, 3)\n",
      "input shape (496, 459, 4)\n",
      "output shape (512, 512, 4)\n",
      "15\n",
      "input shape (526, 552, 3)\n",
      "output shape (768, 768, 3)\n",
      "input shape (526, 552, 3)\n",
      "output shape (768, 768, 3)\n",
      "input shape (526, 552, 4)\n",
      "output shape (768, 768, 4)\n"
     ]
    }
   ],
   "source": [
    "createImgPatches(source,256)"
   ]
  },
  {
   "cell_type": "code",
   "execution_count": null,
   "metadata": {},
   "outputs": [],
   "source": []
  }
 ],
 "metadata": {
  "kernelspec": {
   "display_name": "Python [conda env:pytorch]",
   "language": "python",
   "name": "conda-env-pytorch-py"
  },
  "language_info": {
   "codemirror_mode": {
    "name": "ipython",
    "version": 3
   },
   "file_extension": ".py",
   "mimetype": "text/x-python",
   "name": "python",
   "nbconvert_exporter": "python",
   "pygments_lexer": "ipython3",
   "version": "3.6.4"
  }
 },
 "nbformat": 4,
 "nbformat_minor": 2
}
